{
 "cells": [
  {
   "cell_type": "markdown",
   "metadata": {},
   "source": [
    "<img style=\"float: left; margin: 30px 15px 15px 15px;\" src=\"https://pngimage.net/wp-content/uploads/2018/06/logo-iteso-png-5.png\" width=\"300\" height=\"500\" /> \n",
    "    \n",
    "    \n",
    "### <font color='navy'> Simulación de procesos financieros. \n",
    "\n",
    "**Nombres:** Xareny González López, Ana Sofia Durrmuller Acosta\n",
    "\n",
    "**Fecha:** 16 de septiembre del 2021.\n",
    "\n",
    "**Expediente** : if720811, if723489\n",
    "**Profesor:** Oscar David Jaramillo Zuluaga.\n",
    "    \n",
    "**Link Github**: https://github.com/anadurrmuller/Tarea4a_ASDurrmuller_XGonzalez.git\n",
    "\n",
    "# Tarea 4-a)"
   ]
  },
  {
   "cell_type": "markdown",
   "metadata": {},
   "source": [
    "### Ejercicio 1\n",
    "Como ejemplo simple de una simulación de Monte Carlo, considere calcular la probabilidad de una suma particular del lanzamiento de tres dados (cada dado tiene valores del uno al seis). Además cada dado tiene las siguientes carácterísticas: el primer dado no está cargado (distribución uniforme todos son equiprobables); el segundo y tercer dado están cargados basados en una distribución binomial con parámetros (`n=5, p=0.5` y `n=5, p=0.2`). Calcule la probabilidad de que la suma resultante sea 7, 14 o 18. "
   ]
  },
  {
   "cell_type": "code",
   "execution_count": 72,
   "metadata": {},
   "outputs": [],
   "source": [
    "import numpy as np\n",
    "import numpy as np\n",
    "import matplotlib.pyplot as plt\n",
    "import pandas as pd\n",
    "import os\n",
    "import scipy.stats as st"
   ]
  },
  {
   "cell_type": "code",
   "execution_count": 73,
   "metadata": {},
   "outputs": [
    {
     "name": "stdout",
     "output_type": "stream",
     "text": [
      "probabilidad de que la suma sea 7: 0.12571\n",
      "probabilidad de que la suma sea 14: 0.0137\n",
      "probabilidad de que la suma sea 18: 1e-05\n"
     ]
    }
   ],
   "source": [
    "#Solucion Estudiante 1\n",
    "#Dado 1 con distribución normal uniforme\n",
    "dado_1 = np.random.randint(1,7,100000)\n",
    "#Dado 2 cargado en base a distribución binomial con n=5 y p=0.5\n",
    "dado_2 = st.binom(n=5,p=0.5,loc=1).rvs(size=100000)\n",
    "#Dado 3 cargado en base a distribución binomial con n=5, p=0.2\n",
    "dado_3 = st.binom(n=5,p=0.2,loc=1).rvs(size=100000)\n",
    "#En el vector 'resultados_suma' se encuentran los resultados de cada juego\n",
    "resultados_suma = dado_1 + dado_2 + dado_3\n",
    "#Para la probabilidad que la suma resultante sea 7\n",
    "resultados_7 = len(resultados_suma[resultados_suma==7])/len(resultados_suma)\n",
    "print(f'probabilidad de que la suma sea 7: {resultados_7}')\n",
    "#Para la probabilidad que la suma resultante sea 14\n",
    "resultados_14 = len(resultados_suma[resultados_suma==14])/len(resultados_suma)\n",
    "print(f'probabilidad de que la suma sea 14: {resultados_14}')\n",
    "#Para la probabilidad que la suma resultante sea 18\n",
    "resultados_18 = len(resultados_suma[resultados_suma==18])/len(resultados_suma)\n",
    "print(f'probabilidad de que la suma sea 18: {float(resultados_18)}')"
   ]
  },
  {
   "cell_type": "code",
   "execution_count": 90,
   "metadata": {},
   "outputs": [
    {
     "name": "stdout",
     "output_type": "stream",
     "text": [
      "Probabilidad de suma igual a 7: 0.10266666666666667\n",
      "Probabilidad de suma igual a 14: 0.0\n",
      "Probabilidad de suma igual a 18: 0.008\n"
     ]
    }
   ],
   "source": [
    "#Solucion Estudiante 2\n",
    "def suma_dados():\n",
    "    return (np.random.randint(1,7,1)) + (st.binom(n=5, p=0.5).rvs(size=1)) + (st.binom(n=5, p=0.2).rvs(size=1))\n",
    "\n",
    "N = 1000\n",
    "res = [suma_dados() for i in range(N)]\n",
    "x, y = np.histogram(res, bins=16, density=True)\n",
    "print(f'Probabilidad de suma igual a 7: {x[4]}')\n",
    "print(f'Probabilidad de suma igual a 14: {x[11]}')\n",
    "print(f'Probabilidad de suma igual a 18: {x[15]}')"
   ]
  },
  {
   "cell_type": "markdown",
   "metadata": {},
   "source": [
    "### Ejercicio 2 de aplicación- Cafetería Central\n",
    "\n",
    "Premisas para la simulación:\n",
    "- Negocio de alimentos que vende bebidas y alimentos.\n",
    "- Negocio dentro del ITESO.\n",
    "- Negocio en cafetería central.\n",
    "- Tipo de clientes (hombres y mujeres).\n",
    "- Rentabilidad del 60%.\n",
    "\n",
    "### Objetivo\n",
    "\n",
    "Realizar una simulación estimado el tiempo medio que se tardaran los clientes en ser atendidos entre el horario de 6:30 a 1 pm. Además saber el consumo. \n",
    "**Analizar supuestos y limitantes**"
   ]
  },
  {
   "cell_type": "markdown",
   "metadata": {},
   "source": [
    "### Supuestos en simulación\n",
    "Clasificación de clientes: \n",
    "- Mujer  = 1 $\\longrightarrow$ aleatorio < 0.5\n",
    "- Hombre = 0 $\\longrightarrow$ aleatorio $\\geq$ 0.5.\n",
    "\n",
    "Condiciones iniciales:\n",
    "- Todas las distrubuciones de probabilidad se supondrán uniformes.\n",
    "- Tiempo de simulación: 6:30 am - 1:30pm $\\longrightarrow$ T = 7 horas = 25200 seg.\n",
    "- Tiempo de llegada hasta ser atendido: Min=5seg, Max=30seg.\n",
    "- Tiempo que tardan los clientes en ser atendidos:\n",
    "    - Mujer: Min = 1 min= 60seg, Max = 5 min = 300 seg\n",
    "    - Hombre: Min = 40 seg, Max = 2 min= 120 seg\n",
    "- Consumo según el tipo de cliente:\n",
    "    - Mujer: Min = 30 pesos, Max = 100 pesos\n",
    "    - Hombre: Min = 20 pesos, Max = 80 pesos\n",
    "\n",
    "Responder las siguientes preguntas basados en los datos del problema:\n",
    "1. ¿Cuáles fueron los gastos de los hombres y las mujeres en 5 días de trabajo?.\n",
    "2. ¿Cuál fue el consumo promedio de los hombres y mujeres?\n",
    "3. ¿Cuál fue el número de personas atendidas por día?\n",
    "4. ¿Cuál fue el tiempo de atención promedio?\n",
    "5. ¿Cuánto fue la ganancia promedio de la cafetería en 5 días de trabajo y su respectiva rentabilidad?"
   ]
  },
  {
   "cell_type": "code",
   "execution_count": 75,
   "metadata": {},
   "outputs": [],
   "source": [
    "################## Datos del problema\n",
    "d = 5\n",
    "T =25200\n",
    "T_at_min = 5; T_at_max = 30\n",
    "T_mujer_min =60; T_mujer_max = 300\n",
    "T_hombre_min = 40; T_hombre_max = 120\n",
    "C_mujer_min = 30; C_mujer_max = 100\n",
    "C_hombre_min = 20; C_hombre_max = 80"
   ]
  },
  {
   "cell_type": "markdown",
   "metadata": {},
   "source": [
    "#### Solucion Estudiante 1 "
   ]
  },
  {
   "cell_type": "code",
   "execution_count": 76,
   "metadata": {},
   "outputs": [
    {
     "name": "stdout",
     "output_type": "stream",
     "text": [
      "Los hombres gastaron 22060 y las mujeres gastaron 26952\n"
     ]
    }
   ],
   "source": [
    "T_aten = [] #Tiempo de atención\n",
    "c_h = [] #consumo hombres\n",
    "c_m = [] #consumo mujeres\n",
    "p_dia = []\n",
    "\n",
    "P_aten = 0 #Personas atendidas en total\n",
    "j = 0 #Indice dentro de la variable personas\n",
    "m = 0 # cuántas mujeres\n",
    "h = 0 #cuántos hombres\n",
    "g = np.zeros(5) #Ganancias por día\n",
    "def eventoClienteFemenino():\n",
    "    t_llegada = np.random.randint(T_at_min,T_at_max)\n",
    "    return [np.random.randint(T_mujer_min,T_mujer_max) + t_llegada,np.random.randint(C_mujer_min,C_mujer_max)]\n",
    "def eventoClienteMasculino():\n",
    "    t_llegada = np.random.randint(T_at_min,T_at_max)\n",
    "    return [np.random.randint(T_hombre_min,T_hombre_max)+t_llegada,np.random.randint(C_hombre_min,C_hombre_max)]\n",
    "for i in range(d):\n",
    "    t= 0 #Tiempo restante en el día\n",
    "    loc= 0 \n",
    "    j=0 #Personas en el día\n",
    "    while t<T:\n",
    "        if np.random.rand() < 0.5:\n",
    "            loc = eventoClienteFemenino()\n",
    "            m +=1\n",
    "            c_m.append(loc[1])\n",
    "        else:\n",
    "            loc = eventoClienteMasculino()\n",
    "            h+=1\n",
    "            c_h.append(loc[1])\n",
    "        t+=loc[0]\n",
    "        j+=1\n",
    "        T_aten.append(loc[0])\n",
    "        g[i] += loc[1]*.6\n",
    "    p_dia.append(j) \n",
    "        \n",
    "#Pregunta 1\n",
    "print(\"Los hombres gastaron\",np.array(c_h).sum(),\"y las mujeres gastaron\",np.array(c_m).sum())"
   ]
  },
  {
   "cell_type": "code",
   "execution_count": 77,
   "metadata": {},
   "outputs": [
    {
     "name": "stdout",
     "output_type": "stream",
     "text": [
      "Los hombres consumieron en promedio 49.90950226244344 y las mujeres consumieron en promedio 62.67906976744186\n"
     ]
    }
   ],
   "source": [
    "#Pregunta 2\n",
    "#Pregunta 2\n",
    "print(\"Los hombres consumieron en promedio\",np.array(c_h).mean(),\"y las mujeres consumieron en promedio\",np.array(c_m).mean())"
   ]
  },
  {
   "cell_type": "code",
   "execution_count": 78,
   "metadata": {},
   "outputs": [
    {
     "name": "stdout",
     "output_type": "stream",
     "text": [
      "Las personas atendidas por día fueron: [171, 177, 172, 173, 179]\n"
     ]
    }
   ],
   "source": [
    "#Pregunta 3\n",
    "print(\"Las personas atendidas por día fueron:\",p_dia)"
   ]
  },
  {
   "cell_type": "code",
   "execution_count": 79,
   "metadata": {},
   "outputs": [
    {
     "name": "stdout",
     "output_type": "stream",
     "text": [
      "El tiempo de atención promedio fue de: 145.09977064220183\n"
     ]
    }
   ],
   "source": [
    "#Pregunta 4\n",
    "print(\"El tiempo de atención promedio fue de:\",np.array(T_aten).mean())"
   ]
  },
  {
   "cell_type": "code",
   "execution_count": 80,
   "metadata": {},
   "outputs": [
    {
     "name": "stdout",
     "output_type": "stream",
     "text": [
      "La ganancia promedio por dia fue de: 5881.44 y la rentabilidad fue de: 0.6\n"
     ]
    }
   ],
   "source": [
    "#Pregunta 5\n",
    "print(\"La ganancia promedio por dia fue de:\",g.mean(),\"y la rentabilidad fue de:\",g.sum()/(np.array(c_h).sum()+np.array(c_m).sum()))"
   ]
  },
  {
   "cell_type": "markdown",
   "metadata": {},
   "source": [
    " #### Solucion Estudiante 2"
   ]
  },
  {
   "cell_type": "code",
   "execution_count": 81,
   "metadata": {},
   "outputs": [],
   "source": [
    "escenarios = 1\n",
    "t_atn = np.random.randint(5, 31, escenarios)\n",
    "atn_h = np.random.randint(40, 121, escenarios)\n",
    "atn_m = np.random.randint(60, 300, escenarios)\n",
    "\n",
    "dia = 0\n",
    "gasto_t_m = 0\n",
    "gasto_t_h = 0"
   ]
  },
  {
   "cell_type": "code",
   "execution_count": 89,
   "metadata": {},
   "outputs": [
    {
     "data": {
      "text/plain": [
       "(20169.0, 53265.0, 56, 147, 17.0)"
      ]
     },
     "execution_count": 89,
     "metadata": {},
     "output_type": "execute_result"
    }
   ],
   "source": [
    "while dia <= d:\n",
    "    \n",
    "    \n",
    "    tiempo = 0\n",
    "    gasto_p_m = 0\n",
    "    gasto_p_h = 0\n",
    "    cant_m = 0\n",
    "    cant_h = 0\n",
    "    atn = 0\n",
    "    \n",
    "\n",
    "    while tiempo <= T:\n",
    "        if np.random.randint(0,2) == 0:\n",
    "            gasto_p_m += np.mean(np.random.randint(C_mujer_min, C_mujer_max))\n",
    "            cant_m += 1\n",
    "            tiempo += np.mean(t_atn) + np.mean(atn_m)\n",
    "            atn += np.mean(t_atn)\n",
    "            \n",
    "        elif np.random.randint(0,2) == 1:\n",
    "            gasto_p_h += np.mean(np.random.randint(C_hombre_min, C_hombre_max))\n",
    "            cant_h += 1\n",
    "            tiempo += np.mean(t_atn) + np.mean(atn_h)\n",
    "            atn += np.mean(t_atn)\n",
    "            \n",
    "\n",
    "    gasto_t_m += gasto_p_m\n",
    "    gasto_t_h += gasto_p_h\n",
    "    dia += 1\n",
    "\n",
    "\n",
    "gasto_t_h, gasto_t_m, cant_h, cant_m, atn / (cant_h+cant_m)"
   ]
  },
  {
   "cell_type": "code",
   "execution_count": 83,
   "metadata": {},
   "outputs": [
    {
     "name": "stdout",
     "output_type": "stream",
     "text": [
      " $0 corresponden a los gastos de las mujeres y $0 al de los hombres\n"
     ]
    }
   ],
   "source": [
    "#Pregunta 1\n",
    "\n",
    "print(f''' ${int(gasto_t_m)} corresponden a los gastos de las mujeres y ${int(gasto_t_h)} al de los hombres''')"
   ]
  },
  {
   "cell_type": "code",
   "execution_count": 84,
   "metadata": {},
   "outputs": [
    {
     "name": "stdout",
     "output_type": "stream",
     "text": [
      "El gasto promedio de las mujeres fue de $49.5\n"
     ]
    }
   ],
   "source": [
    "#Pregunta 2\n",
    "print(f'El gasto promedio de las mujeres fue de ${gasto_p_m/cant_m}')"
   ]
  },
  {
   "cell_type": "code",
   "execution_count": 85,
   "metadata": {},
   "outputs": [
    {
     "name": "stdout",
     "output_type": "stream",
     "text": [
      "El número de personas atendidas por día fue de 2\n"
     ]
    }
   ],
   "source": [
    "#Pregunta 3\n",
    "print(f'El número de personas atendidas por día fue de {cant_h+cant_m}')"
   ]
  },
  {
   "cell_type": "code",
   "execution_count": 86,
   "metadata": {},
   "outputs": [
    {
     "name": "stdout",
     "output_type": "stream",
     "text": [
      "El tiempo de atención promedio fue de 17.0 segundos\n"
     ]
    }
   ],
   "source": [
    "#Pregunta 4\n",
    "print(f'El tiempo de atención promedio fue de {atn/(cant_h+cant_m)} segundos')"
   ]
  },
  {
   "cell_type": "code",
   "execution_count": 87,
   "metadata": {},
   "outputs": [
    {
     "name": "stdout",
     "output_type": "stream",
     "text": [
      "La ganancia/ingreso promedio en 5 días de la cafeteria fue de $0\n",
      "La rentabilidad fue de $0.0\n"
     ]
    }
   ],
   "source": [
    "#Pregunta 5\n",
    "print(f'La ganancia/ingreso promedio en 5 días de la cafeteria fue de ${int(gasto_t_h + gasto_t_m)}')\n",
    "print(f'La rentabilidad fue de ${int(gasto_t_h + gasto_t_m)*0.6}')"
   ]
  },
  {
   "cell_type": "code",
   "execution_count": null,
   "metadata": {},
   "outputs": [],
   "source": []
  },
  {
   "cell_type": "code",
   "execution_count": null,
   "metadata": {},
   "outputs": [],
   "source": []
  }
 ],
 "metadata": {
  "kernelspec": {
   "display_name": "Python 3",
   "language": "python",
   "name": "python3"
  },
  "language_info": {
   "codemirror_mode": {
    "name": "ipython",
    "version": 3
   },
   "file_extension": ".py",
   "mimetype": "text/x-python",
   "name": "python",
   "nbconvert_exporter": "python",
   "pygments_lexer": "ipython3",
   "version": "3.7.4"
  }
 },
 "nbformat": 4,
 "nbformat_minor": 2
}
